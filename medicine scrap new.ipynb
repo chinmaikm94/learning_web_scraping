{
 "cells": [
  {
   "cell_type": "code",
   "execution_count": 1,
   "id": "50489a88",
   "metadata": {},
   "outputs": [
    {
     "name": "stdout",
     "output_type": "stream",
     "text": [
      "Requirement already satisfied: autoscraper in c:\\users\\hp\\anaconda3\\lib\\site-packages (1.1.14)\n",
      "Requirement already satisfied: requests in c:\\users\\hp\\anaconda3\\lib\\site-packages (from autoscraper) (2.27.1)\n",
      "Requirement already satisfied: lxml in c:\\users\\hp\\anaconda3\\lib\\site-packages (from autoscraper) (4.8.0)\n",
      "Requirement already satisfied: bs4 in c:\\users\\hp\\anaconda3\\lib\\site-packages (from autoscraper) (0.0.1)\n",
      "Requirement already satisfied: beautifulsoup4 in c:\\users\\hp\\anaconda3\\lib\\site-packages (from bs4->autoscraper) (4.11.1)\n",
      "Requirement already satisfied: soupsieve>1.2 in c:\\users\\hp\\anaconda3\\lib\\site-packages (from beautifulsoup4->bs4->autoscraper) (2.3.1)\n",
      "Requirement already satisfied: charset-normalizer~=2.0.0 in c:\\users\\hp\\anaconda3\\lib\\site-packages (from requests->autoscraper) (2.0.4)\n",
      "Requirement already satisfied: urllib3<1.27,>=1.21.1 in c:\\users\\hp\\anaconda3\\lib\\site-packages (from requests->autoscraper) (1.26.9)\n",
      "Requirement already satisfied: certifi>=2017.4.17 in c:\\users\\hp\\anaconda3\\lib\\site-packages (from requests->autoscraper) (2021.10.8)\n",
      "Requirement already satisfied: idna<4,>=2.5 in c:\\users\\hp\\anaconda3\\lib\\site-packages (from requests->autoscraper) (3.3)\n"
     ]
    }
   ],
   "source": [
    "!pip install autoscraper"
   ]
  },
  {
   "cell_type": "code",
   "execution_count": 2,
   "id": "583d1b2d",
   "metadata": {},
   "outputs": [
    {
     "name": "stdout",
     "output_type": "stream",
     "text": [
      "['Meftal-Spas Tablet', 'Montek LC Tablet', 'Meftal-P Suspension', 'Metrogyl 400 Tablet', 'Meftal-Forte Tablet', 'Manforce 100mg Tablet', 'Monocef-O 200 Tablet', 'Moxikind-CV 625 Tablet', 'Monocef 1gm Injection', 'Maxtra Syrup', 'Mucinac 600 Effervescent Tablet Orange Sugar Free', 'Mucaine Gel Mint Sugar Free', 'Montair LC Kid Syrup', 'Monticope Tablet', 'Montina-L Tablet', 'Meprate 10mg Tablet', 'Meganeuron OD Plus Capsule', 'Montair FX Tablet', 'Meftal 500 Tablet', 'Mobizox Tablet', 'Manforce Staylong Tablet', 'Montair-LC Tablet', 'Manforce 50mg Tablet', 'Myospaz Forte Tablet', 'MIFEGEST KIT TABLET', 'Moxclav 625 Tablet', 'Medrol 4mg Tablet', 'Megalis 20 Tablet', 'Mahacef 200 Tablet', 'Mondeslor Tablet']\n"
     ]
    }
   ],
   "source": [
    "from autoscraper import AutoScraper\n",
    "\n",
    "url = 'https://www.1mg.com/drugs-all-medicines?page=1&label=m'\n",
    "\n",
    "# We can add one or multiple candidates here.\n",
    "# You can also put urls here to retrieve urls.\n",
    "wanted_list = [\"Meftal-Spas Tablet\"]\n",
    "\n",
    "scraper = AutoScraper()\n",
    "result = scraper.build(url, wanted_list)\n",
    "print(result)"
   ]
  },
  {
   "cell_type": "code",
   "execution_count": 87,
   "id": "23fdc75d",
   "metadata": {},
   "outputs": [],
   "source": [
    "a=[]"
   ]
  },
  {
   "cell_type": "code",
   "execution_count": 91,
   "id": "474da3dd",
   "metadata": {},
   "outputs": [],
   "source": [
    "for i in range(400,551):\n",
    "    try:\n",
    "        a.append(scraper.get_result_similar('https://www.1mg.com/drugs-all-medicines?page='+str(i)+'&label=t'))\n",
    "    except:\n",
    "        break"
   ]
  },
  {
   "cell_type": "code",
   "execution_count": 92,
   "id": "00916034",
   "metadata": {},
   "outputs": [
    {
     "data": {
      "text/plain": [
       "550"
      ]
     },
     "execution_count": 92,
     "metadata": {},
     "output_type": "execute_result"
    }
   ],
   "source": [
    "len(a)"
   ]
  },
  {
   "cell_type": "code",
   "execution_count": 93,
   "id": "03012859",
   "metadata": {},
   "outputs": [],
   "source": [
    "items =[]"
   ]
  },
  {
   "cell_type": "code",
   "execution_count": 94,
   "id": "81ef81b5",
   "metadata": {},
   "outputs": [],
   "source": [
    "for i in a:\n",
    "    items=items+i"
   ]
  },
  {
   "cell_type": "code",
   "execution_count": 95,
   "id": "c1af8ebf",
   "metadata": {},
   "outputs": [
    {
     "data": {
      "text/plain": [
       "16491"
      ]
     },
     "execution_count": 95,
     "metadata": {},
     "output_type": "execute_result"
    }
   ],
   "source": [
    "len(items)"
   ]
  },
  {
   "cell_type": "code",
   "execution_count": 96,
   "id": "9337be64",
   "metadata": {},
   "outputs": [],
   "source": [
    "import pandas as pd"
   ]
  },
  {
   "cell_type": "code",
   "execution_count": 97,
   "id": "adde826c",
   "metadata": {},
   "outputs": [
    {
     "data": {
      "text/html": [
       "<div>\n",
       "<style scoped>\n",
       "    .dataframe tbody tr th:only-of-type {\n",
       "        vertical-align: middle;\n",
       "    }\n",
       "\n",
       "    .dataframe tbody tr th {\n",
       "        vertical-align: top;\n",
       "    }\n",
       "\n",
       "    .dataframe thead th {\n",
       "        text-align: right;\n",
       "    }\n",
       "</style>\n",
       "<table border=\"1\" class=\"dataframe\">\n",
       "  <thead>\n",
       "    <tr style=\"text-align: right;\">\n",
       "      <th></th>\n",
       "      <th>Drugs</th>\n",
       "    </tr>\n",
       "  </thead>\n",
       "  <tbody>\n",
       "    <tr>\n",
       "      <th>0</th>\n",
       "      <td>Taxim-O 200 Tablet</td>\n",
       "    </tr>\n",
       "    <tr>\n",
       "      <th>1</th>\n",
       "      <td>Tryptomer 10mg Tablet</td>\n",
       "    </tr>\n",
       "    <tr>\n",
       "      <th>2</th>\n",
       "      <td>Telma 40 Tablet</td>\n",
       "    </tr>\n",
       "    <tr>\n",
       "      <th>3</th>\n",
       "      <td>Thrombophob Ointment</td>\n",
       "    </tr>\n",
       "    <tr>\n",
       "      <th>4</th>\n",
       "      <td>T-Bact 2% Ointment</td>\n",
       "    </tr>\n",
       "    <tr>\n",
       "      <th>...</th>\n",
       "      <td>...</td>\n",
       "    </tr>\n",
       "    <tr>\n",
       "      <th>16486</th>\n",
       "      <td>Tenelidib M 1000 SR Tablet</td>\n",
       "    </tr>\n",
       "    <tr>\n",
       "      <th>16487</th>\n",
       "      <td>Tuspel LS Syrup Strawberry</td>\n",
       "    </tr>\n",
       "    <tr>\n",
       "      <th>16488</th>\n",
       "      <td>Topsor Lotion</td>\n",
       "    </tr>\n",
       "    <tr>\n",
       "      <th>16489</th>\n",
       "      <td>Tolopram 0.5mg/10mg Tablet</td>\n",
       "    </tr>\n",
       "    <tr>\n",
       "      <th>16490</th>\n",
       "      <td>Triglimisave 1 Tablet SR</td>\n",
       "    </tr>\n",
       "  </tbody>\n",
       "</table>\n",
       "<p>16491 rows × 1 columns</p>\n",
       "</div>"
      ],
      "text/plain": [
       "                            Drugs\n",
       "0              Taxim-O 200 Tablet\n",
       "1           Tryptomer 10mg Tablet\n",
       "2                 Telma 40 Tablet\n",
       "3            Thrombophob Ointment\n",
       "4              T-Bact 2% Ointment\n",
       "...                           ...\n",
       "16486  Tenelidib M 1000 SR Tablet\n",
       "16487  Tuspel LS Syrup Strawberry\n",
       "16488               Topsor Lotion\n",
       "16489  Tolopram 0.5mg/10mg Tablet\n",
       "16490    Triglimisave 1 Tablet SR\n",
       "\n",
       "[16491 rows x 1 columns]"
      ]
     },
     "execution_count": 97,
     "metadata": {},
     "output_type": "execute_result"
    }
   ],
   "source": [
    "df = pd.DataFrame(items, columns=[\"Drugs\"])\n",
    "df"
   ]
  },
  {
   "cell_type": "code",
   "execution_count": 98,
   "id": "8795fe4c",
   "metadata": {},
   "outputs": [
    {
     "data": {
      "text/plain": [
       "15133"
      ]
     },
     "execution_count": 98,
     "metadata": {},
     "output_type": "execute_result"
    }
   ],
   "source": [
    "len(df[\"Drugs\"].unique())"
   ]
  },
  {
   "cell_type": "code",
   "execution_count": 99,
   "id": "480a352d",
   "metadata": {},
   "outputs": [],
   "source": [
    "df.to_csv(\"medicinescrapt.csv\")"
   ]
  },
  {
   "cell_type": "code",
   "execution_count": null,
   "id": "71752c74",
   "metadata": {},
   "outputs": [],
   "source": []
  }
 ],
 "metadata": {
  "kernelspec": {
   "display_name": "Python 3 (ipykernel)",
   "language": "python",
   "name": "python3"
  },
  "language_info": {
   "codemirror_mode": {
    "name": "ipython",
    "version": 3
   },
   "file_extension": ".py",
   "mimetype": "text/x-python",
   "name": "python",
   "nbconvert_exporter": "python",
   "pygments_lexer": "ipython3",
   "version": "3.9.12"
  }
 },
 "nbformat": 4,
 "nbformat_minor": 5
}
